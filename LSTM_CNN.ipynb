{
 "cells": [
  {
   "cell_type": "code",
   "execution_count": 236,
   "metadata": {
    "_cell_guid": "79c7e3d0-c299-4dcb-8224-4455121ee9b0",
    "_uuid": "d629ff2d2480ee46fbb7e2d37f6b5fab8052498a"
   },
   "outputs": [],
   "source": [
    "import numpy as np\n",
    "import pandas as pd\n",
    "import pickle\n",
    "# from keras.models import Sequential\n",
    "from keras.layers import LSTM, Dense, Dropout, Masking, Embedding\n",
    "from keras.models import Sequential\n",
    "from keras.layers import Dense\n",
    "from keras.layers import Flatten\n",
    "from keras.layers import Dropout, GlobalMaxPooling1D\n",
    "from keras.layers.convolutional import Conv1D\n",
    "from keras.layers.convolutional import MaxPooling1D"
   ]
  },
  {
   "cell_type": "code",
   "execution_count": 237,
   "metadata": {},
   "outputs": [],
   "source": [
    "def loadFromPickle(pickleFile):\n",
    "    file = open(pickleFile,'rb')\n",
    "    pickleData = pickle.load(file)\n",
    "    file.close()\n",
    "    return pickleData"
   ]
  },
  {
   "cell_type": "code",
   "execution_count": 238,
   "metadata": {},
   "outputs": [
    {
     "data": {
      "text/plain": [
       "(4665,)"
      ]
     },
     "execution_count": 238,
     "metadata": {},
     "output_type": "execute_result"
    }
   ],
   "source": [
    "df = pd.read_csv(\"../input/hasoc2019/hasoc2019_hi_test_gold_2919.tsv\",sep='\\t')\n",
    "df.head()\n",
    "\n",
    "x_test = np.array(df['text'])\n",
    "y_test_true = np.array(df['task_1'])\n",
    "y_test_true.shape\n",
    "\n",
    "df = pd.read_csv(\"../input/hasoc2019/hindi_dataset.tsv\",sep='\\t')\n",
    "y_train_true = np.array(df['task_1'])\n",
    "y_train_true.shape"
   ]
  },
  {
   "cell_type": "code",
   "execution_count": 239,
   "metadata": {},
   "outputs": [
    {
     "name": "stdout",
     "output_type": "stream",
     "text": [
      "640\n",
      "4377 4377\n",
      "4377\n",
      "[0 1 1 ... 0 1 1]\n",
      "<class 'numpy.float64'>\n"
     ]
    }
   ],
   "source": [
    "tv = []\n",
    "tv.append(loadFromPickle('../input/sentence-vectors/inltk_sentence_vectors_1000'))\n",
    "tv.append(loadFromPickle('../input/sentence-vectors/inltk_sentence_vectors_2000'))\n",
    "tv.append(loadFromPickle('../input/sentence-vectors/inltk_sentence_vectors_4000'))\n",
    "tv.append(loadFromPickle('../input/sentence-vectors/inltk_sentence_vectors_4665'))\n",
    "\n",
    "print(len(tv[3]))\n",
    "train_data = []\n",
    "y_val = []\n",
    "for i in range(len(tv)):\n",
    "    for j in list(tv[i].keys()):\n",
    "        train_data.append(tv[i][j][0])\n",
    "        y_val.append(j)\n",
    "        \n",
    "print(len(train_data), len(y_val))\n",
    "y_train = y_train_true[y_val]\n",
    "print(len(y_train))\n",
    "for i in range(len(y_train)):\n",
    "    if y_train[i]=='NOT':\n",
    "        y_train[i] = 0\n",
    "    else:\n",
    "        y_train[i] = 1\n",
    "print(y_train)\n",
    "y_train = np.asarray(y_train).astype(np.float64)\n",
    "print(type(y_train[0]))"
   ]
  },
  {
   "cell_type": "code",
   "execution_count": null,
   "metadata": {},
   "outputs": [],
   "source": []
  },
  {
   "cell_type": "code",
   "execution_count": 240,
   "metadata": {},
   "outputs": [
    {
     "name": "stdout",
     "output_type": "stream",
     "text": [
      "1288\n",
      "1288\n"
     ]
    }
   ],
   "source": [
    "test_vectors = loadFromPickle('../input/sentence-vectors/inltk_test_sentence_vectors')\n",
    "y_test = y_test_true[list(test_vectors.keys())]\n",
    "print(len(test_vectors.keys()))\n",
    "print(len(y_test))\n",
    "for i in range(len(y_test)):\n",
    "    if y_test[i]=='NOT':\n",
    "        y_test[i] = 0\n",
    "    else:\n",
    "        y_test[i] = 1\n",
    "y_test = np.asarray(y_test).astype(np.float64)"
   ]
  },
  {
   "cell_type": "code",
   "execution_count": 241,
   "metadata": {},
   "outputs": [
    {
     "name": "stdout",
     "output_type": "stream",
     "text": [
      "400\n",
      "1288 400\n"
     ]
    }
   ],
   "source": [
    "print(len(test_vectors[0][0]))\n",
    "data = []\n",
    "for i in list(test_vectors.keys()):\n",
    "    data.append(test_vectors[i][0])\n",
    "\n",
    "print(len(data), len(data[0]))"
   ]
  },
  {
   "cell_type": "code",
   "execution_count": 242,
   "metadata": {},
   "outputs": [
    {
     "name": "stdout",
     "output_type": "stream",
     "text": [
      "(4375, 400)\n"
     ]
    }
   ],
   "source": [
    "# from sklearn.decomposition import PCA\n",
    "# pca = PCA(n_components=10)\n",
    "trainX = np.array(train_data)\n",
    "nanIndexes = list(set(np.where(np.isnan(trainX))[0].tolist()))\n",
    "trainX = trainX[list(set(range(len(trainX))) - set(nanIndexes))]\n",
    "y_train = y_train[list(set(range(len(y_train))) - set(nanIndexes))]\n",
    "print(trainX.shape)\n",
    "# trainX_pca = pca.fit_transform(trainX)\n",
    "\n",
    "testX = np.array(data)"
   ]
  },
  {
   "cell_type": "code",
   "execution_count": 243,
   "metadata": {},
   "outputs": [
    {
     "name": "stdout",
     "output_type": "stream",
     "text": [
      "(4375,)\n"
     ]
    }
   ],
   "source": [
    "print(y_train.shape)"
   ]
  },
  {
   "cell_type": "code",
   "execution_count": 244,
   "metadata": {},
   "outputs": [
    {
     "name": "stdout",
     "output_type": "stream",
     "text": [
      "(4375, 400)\n",
      "(4375, 1, 400)\n",
      "(1288, 400)\n",
      "(1288, 1, 400)\n"
     ]
    }
   ],
   "source": [
    "print(trainX.shape)\n",
    "trainX = np.reshape(trainX, (trainX.shape[0],1, trainX.shape[1]))\n",
    "print(trainX.shape)\n",
    "\n",
    "# testX = np.array(data)\n",
    "print(testX.shape)\n",
    "# testX = np.array(scaler.fit_transform(testX))\n",
    "testX = np.reshape(testX, (testX.shape[0],1, testX.shape[1]))\n",
    "print(testX.shape)"
   ]
  },
  {
   "cell_type": "code",
   "execution_count": 245,
   "metadata": {},
   "outputs": [],
   "source": [
    "from keras import backend as K\n",
    "\n",
    "def recall_m(y_true, y_pred):\n",
    "    true_positives = K.sum(K.round(K.clip(y_true * y_pred, 0, 1)))\n",
    "    possible_positives = K.sum(K.round(K.clip(y_true, 0, 1)))\n",
    "    recall = true_positives / (possible_positives + K.epsilon())\n",
    "    return recall\n",
    "\n",
    "def precision_m(y_true, y_pred):\n",
    "    true_positives = K.sum(K.round(K.clip(y_true * y_pred, 0, 1)))\n",
    "    predicted_positives = K.sum(K.round(K.clip(y_pred, 0, 1)))\n",
    "    precision = true_positives / (predicted_positives + K.epsilon())\n",
    "    return precision\n",
    "\n",
    "def f1_m(y_true, y_pred):\n",
    "    precision = precision_m(y_true, y_pred)\n",
    "    recall = recall_m(y_true, y_pred)\n",
    "    return 2*((precision*recall)/(precision+recall+K.epsilon()))\n"
   ]
  },
  {
   "cell_type": "code",
   "execution_count": 246,
   "metadata": {},
   "outputs": [],
   "source": [
    "## ref : keras documentation\n",
    "def cnnModel(xTrain, yTrain, xTest, yTest):\n",
    "    model = Sequential()\n",
    "    model.add(Conv1D(filters=64, kernel_size=1, activation='relu', input_shape=(1, xTrain.shape[2])))\n",
    "    model.add(Conv1D(filters=32, kernel_size=1, activation='relu'))\n",
    "#     model.add(Conv1D(filters=32, kernel_size=1, activation='relu'))\n",
    "    model.add(Dropout(0.5))\n",
    "    model.add(MaxPooling1D(pool_size=1))\n",
    "    model.add(Flatten())\n",
    "    model.add(Dense(10, activation='relu'))\n",
    "    model.add(Dense( 1, activation='sigmoid'))\n",
    "    model.compile(loss='binary_crossentropy', optimizer='adam', metrics=['accuracy',f1_m,precision_m, recall_m])\n",
    "\n",
    "    #     print(model.summary())\n",
    "    model.fit(xTrain, yTrain, epochs=50, verbose=1, batch_size=16)\n",
    "    train_loss, train_accuracy, train_f1_score, train_precision, train_recall = model.evaluate(xTrain,  yTrain, verbose=0)\n",
    "    test_loss, test_accuracy, test_f1_score, test_precision, test_recall = model.evaluate(xTest,  yTest, verbose=0)\n",
    "    print(\"Train :\",train_loss, train_accuracy, train_f1_score, train_precision, train_recall)\n",
    "    print(\"Test :\",test_loss, test_accuracy, test_f1_score, test_precision, test_recall)\n",
    "    return model"
   ]
  },
  {
   "cell_type": "code",
   "execution_count": 1,
   "metadata": {},
   "outputs": [],
   "source": [
    "## ref : keras documentation\n",
    "def DenseModel(xTrain, yTrain, xTest, yTest):\n",
    "    model = Sequential()\n",
    "    model.add(Dense(units=20,input_shape=(1, 300))) #hidden layer 1 with input\n",
    "\n",
    "    #further layers:    \n",
    "    model.add(Dense(units=10, activation='relu'))\n",
    "    model.add(Dense(units=5, activation='relu'))\n",
    "    model.add(Dense(units=1, activation='sigmoid')) #output layer \n",
    "    model.compile(loss='binary_crossentropy', optimizer='adam', metrics=['accuracy',f1_m,precision_m, recall_m])\n",
    "\n",
    "    #     print(model.summary())\n",
    "    model.fit(xTrain, yTrain, epochs=50, verbose=0, batch_size=16)\n",
    "    train_loss, train_accuracy, train_f1_score, train_precision, train_recall = model.evaluate(xTrain,  yTrain, verbose=0)\n",
    "    test_loss, test_accuracy, test_f1_score, test_precision, test_recall = model.evaluate(xTest,  yTest, verbose=0)\n",
    "    print(\"Train :\",train_loss, train_accuracy, train_f1_score, train_precision, train_recall)\n",
    "    print(\"Test :\",test_loss, test_accuracy, test_f1_score, test_precision, test_recall)\n",
    "    return model"
   ]
  },
  {
   "cell_type": "code",
   "execution_count": 248,
   "metadata": {},
   "outputs": [
    {
     "name": "stdout",
     "output_type": "stream",
     "text": [
      "Epoch 1/50\n",
      "274/274 [==============================] - 0s 2ms/step - loss: 0.6591 - accuracy: 0.6075 - f1_m: 0.6792 - precision_m: 0.6170 - recall_m: 0.8185\n",
      "Epoch 2/50\n",
      "274/274 [==============================] - 0s 2ms/step - loss: 0.5633 - accuracy: 0.7154 - f1_m: 0.7296 - precision_m: 0.7402 - recall_m: 0.7592\n",
      "Epoch 3/50\n",
      "274/274 [==============================] - 0s 2ms/step - loss: 0.5512 - accuracy: 0.7195 - f1_m: 0.7258 - precision_m: 0.7557 - recall_m: 0.7473\n",
      "Epoch 4/50\n",
      "274/274 [==============================] - 0s 2ms/step - loss: 0.4978 - accuracy: 0.7573 - f1_m: 0.7733 - precision_m: 0.7751 - recall_m: 0.7991\n",
      "Epoch 5/50\n",
      "274/274 [==============================] - 0s 2ms/step - loss: 0.4897 - accuracy: 0.7655 - f1_m: 0.7757 - precision_m: 0.7938 - recall_m: 0.7960\n",
      "Epoch 6/50\n",
      "274/274 [==============================] - 0s 2ms/step - loss: 0.4803 - accuracy: 0.7682 - f1_m: 0.7784 - precision_m: 0.7851 - recall_m: 0.8064\n",
      "Epoch 7/50\n",
      "274/274 [==============================] - 0s 2ms/step - loss: 0.4801 - accuracy: 0.7650 - f1_m: 0.7734 - precision_m: 0.7926 - recall_m: 0.7892\n",
      "Epoch 8/50\n",
      "274/274 [==============================] - 0s 2ms/step - loss: 0.4665 - accuracy: 0.7749 - f1_m: 0.7872 - precision_m: 0.7980 - recall_m: 0.8084\n",
      "Epoch 9/50\n",
      "274/274 [==============================] - 0s 2ms/step - loss: 0.4592 - accuracy: 0.7845 - f1_m: 0.7922 - precision_m: 0.8028 - recall_m: 0.8108\n",
      "Epoch 10/50\n",
      "274/274 [==============================] - 1s 2ms/step - loss: 0.4600 - accuracy: 0.7767 - f1_m: 0.7878 - precision_m: 0.7928 - recall_m: 0.8105\n",
      "Epoch 11/50\n",
      "274/274 [==============================] - 1s 2ms/step - loss: 0.4613 - accuracy: 0.7760 - f1_m: 0.7859 - precision_m: 0.7974 - recall_m: 0.8060\n",
      "Epoch 12/50\n",
      "274/274 [==============================] - 0s 2ms/step - loss: 0.4514 - accuracy: 0.7808 - f1_m: 0.7945 - precision_m: 0.7896 - recall_m: 0.8241\n",
      "Epoch 13/50\n",
      "274/274 [==============================] - 1s 2ms/step - loss: 0.4457 - accuracy: 0.7829 - f1_m: 0.7910 - precision_m: 0.7916 - recall_m: 0.8180\n",
      "Epoch 14/50\n",
      "274/274 [==============================] - 0s 2ms/step - loss: 0.4389 - accuracy: 0.7886 - f1_m: 0.7999 - precision_m: 0.8011 - recall_m: 0.8256\n",
      "Epoch 15/50\n",
      "274/274 [==============================] - 0s 2ms/step - loss: 0.4383 - accuracy: 0.7890 - f1_m: 0.8036 - precision_m: 0.8048 - recall_m: 0.8327\n",
      "Epoch 16/50\n",
      "274/274 [==============================] - 0s 2ms/step - loss: 0.4332 - accuracy: 0.7909 - f1_m: 0.8074 - precision_m: 0.8021 - recall_m: 0.8373\n",
      "Epoch 17/50\n",
      "274/274 [==============================] - 0s 2ms/step - loss: 0.4252 - accuracy: 0.7950 - f1_m: 0.8067 - precision_m: 0.8016 - recall_m: 0.8409\n",
      "Epoch 18/50\n",
      "274/274 [==============================] - 0s 2ms/step - loss: 0.4364 - accuracy: 0.7879 - f1_m: 0.7962 - precision_m: 0.7936 - recall_m: 0.8325\n",
      "Epoch 19/50\n",
      "274/274 [==============================] - 0s 2ms/step - loss: 0.4200 - accuracy: 0.7966 - f1_m: 0.8030 - precision_m: 0.8142 - recall_m: 0.8163\n",
      "Epoch 20/50\n",
      "274/274 [==============================] - 1s 2ms/step - loss: 0.4187 - accuracy: 0.7989 - f1_m: 0.8119 - precision_m: 0.8126 - recall_m: 0.8391\n",
      "Epoch 21/50\n",
      "274/274 [==============================] - 0s 2ms/step - loss: 0.4191 - accuracy: 0.7979 - f1_m: 0.8119 - precision_m: 0.8086 - recall_m: 0.8383\n",
      "Epoch 22/50\n",
      "274/274 [==============================] - 0s 2ms/step - loss: 0.4167 - accuracy: 0.7945 - f1_m: 0.8078 - precision_m: 0.8012 - recall_m: 0.8423\n",
      "Epoch 23/50\n",
      "274/274 [==============================] - 0s 2ms/step - loss: 0.4142 - accuracy: 0.8032 - f1_m: 0.8139 - precision_m: 0.8139 - recall_m: 0.8392\n",
      "Epoch 24/50\n",
      "274/274 [==============================] - 0s 2ms/step - loss: 0.4028 - accuracy: 0.8055 - f1_m: 0.8142 - precision_m: 0.8115 - recall_m: 0.8402\n",
      "Epoch 25/50\n",
      "274/274 [==============================] - 0s 2ms/step - loss: 0.4076 - accuracy: 0.7952 - f1_m: 0.8096 - precision_m: 0.7998 - recall_m: 0.8504\n",
      "Epoch 26/50\n",
      "274/274 [==============================] - 0s 2ms/step - loss: 0.4151 - accuracy: 0.8039 - f1_m: 0.8144 - precision_m: 0.8092 - recall_m: 0.8497\n",
      "Epoch 27/50\n",
      "274/274 [==============================] - 0s 2ms/step - loss: 0.3982 - accuracy: 0.8078 - f1_m: 0.8194 - precision_m: 0.8120 - recall_m: 0.8555\n",
      "Epoch 28/50\n",
      "274/274 [==============================] - 0s 2ms/step - loss: 0.3979 - accuracy: 0.8080 - f1_m: 0.8177 - precision_m: 0.8186 - recall_m: 0.8428\n",
      "Epoch 29/50\n",
      "274/274 [==============================] - 0s 2ms/step - loss: 0.4003 - accuracy: 0.8025 - f1_m: 0.8167 - precision_m: 0.8089 - recall_m: 0.8497\n",
      "Epoch 30/50\n",
      "274/274 [==============================] - 0s 2ms/step - loss: 0.4009 - accuracy: 0.8034 - f1_m: 0.8147 - precision_m: 0.8162 - recall_m: 0.8414\n",
      "Epoch 31/50\n",
      "274/274 [==============================] - 1s 2ms/step - loss: 0.3923 - accuracy: 0.8110 - f1_m: 0.8210 - precision_m: 0.8160 - recall_m: 0.8518\n",
      "Epoch 32/50\n",
      "274/274 [==============================] - 0s 2ms/step - loss: 0.3982 - accuracy: 0.8025 - f1_m: 0.8178 - precision_m: 0.8044 - recall_m: 0.8605\n",
      "Epoch 33/50\n",
      "274/274 [==============================] - 0s 2ms/step - loss: 0.3938 - accuracy: 0.8055 - f1_m: 0.8204 - precision_m: 0.8134 - recall_m: 0.8555\n",
      "Epoch 34/50\n",
      "274/274 [==============================] - 0s 2ms/step - loss: 0.3900 - accuracy: 0.8119 - f1_m: 0.8226 - precision_m: 0.8069 - recall_m: 0.8643\n",
      "Epoch 35/50\n",
      "274/274 [==============================] - 0s 2ms/step - loss: 0.3821 - accuracy: 0.8144 - f1_m: 0.8305 - precision_m: 0.8098 - recall_m: 0.8785\n",
      "Epoch 36/50\n",
      "274/274 [==============================] - 0s 2ms/step - loss: 0.3790 - accuracy: 0.8128 - f1_m: 0.8239 - precision_m: 0.8118 - recall_m: 0.8600\n",
      "Epoch 37/50\n",
      "274/274 [==============================] - 0s 2ms/step - loss: 0.3845 - accuracy: 0.8160 - f1_m: 0.8303 - precision_m: 0.8136 - recall_m: 0.8733\n",
      "Epoch 38/50\n",
      "274/274 [==============================] - 0s 2ms/step - loss: 0.3801 - accuracy: 0.8210 - f1_m: 0.8348 - precision_m: 0.8170 - recall_m: 0.8753\n",
      "Epoch 39/50\n",
      "274/274 [==============================] - 0s 2ms/step - loss: 0.3759 - accuracy: 0.8219 - f1_m: 0.8302 - precision_m: 0.8260 - recall_m: 0.8614\n",
      "Epoch 40/50\n",
      "274/274 [==============================] - 0s 2ms/step - loss: 0.3681 - accuracy: 0.8171 - f1_m: 0.8296 - precision_m: 0.8138 - recall_m: 0.8721\n",
      "Epoch 41/50\n",
      "274/274 [==============================] - 0s 2ms/step - loss: 0.3679 - accuracy: 0.8242 - f1_m: 0.8373 - precision_m: 0.8180 - recall_m: 0.8822\n",
      "Epoch 42/50\n",
      "274/274 [==============================] - 0s 2ms/step - loss: 0.3558 - accuracy: 0.8283 - f1_m: 0.8378 - precision_m: 0.8184 - recall_m: 0.8758\n",
      "Epoch 43/50\n",
      "274/274 [==============================] - 0s 2ms/step - loss: 0.3614 - accuracy: 0.8235 - f1_m: 0.8362 - precision_m: 0.8232 - recall_m: 0.8699\n",
      "Epoch 44/50\n",
      "274/274 [==============================] - 0s 2ms/step - loss: 0.3635 - accuracy: 0.8215 - f1_m: 0.8363 - precision_m: 0.8203 - recall_m: 0.8764\n",
      "Epoch 45/50\n",
      "274/274 [==============================] - 0s 2ms/step - loss: 0.3614 - accuracy: 0.8224 - f1_m: 0.8358 - precision_m: 0.8157 - recall_m: 0.8803\n",
      "Epoch 46/50\n",
      "274/274 [==============================] - 0s 2ms/step - loss: 0.3652 - accuracy: 0.8286 - f1_m: 0.8433 - precision_m: 0.8194 - recall_m: 0.8882\n",
      "Epoch 47/50\n",
      "274/274 [==============================] - 0s 2ms/step - loss: 0.3529 - accuracy: 0.8318 - f1_m: 0.8396 - precision_m: 0.8332 - recall_m: 0.8679\n",
      "Epoch 48/50\n",
      "274/274 [==============================] - 0s 2ms/step - loss: 0.3566 - accuracy: 0.8267 - f1_m: 0.8388 - precision_m: 0.8262 - recall_m: 0.8739\n",
      "Epoch 49/50\n",
      "274/274 [==============================] - 0s 2ms/step - loss: 0.3429 - accuracy: 0.8379 - f1_m: 0.8513 - precision_m: 0.8242 - recall_m: 0.8989\n",
      "Epoch 50/50\n",
      "274/274 [==============================] - 0s 2ms/step - loss: 0.3656 - accuracy: 0.8229 - f1_m: 0.8369 - precision_m: 0.8122 - recall_m: 0.8848\n",
      "Train : 0.3472995162010193 0.8473142981529236 0.8426513671875 0.8188930153846741 0.8949195742607117\n",
      "Test : 0.5032901167869568 0.7461180090904236 0.7432423233985901 0.7010801434516907 0.8065711259841919\n"
     ]
    }
   ],
   "source": [
    "cnn_ulm_model = cnnModel(trainX, y_train, testX, y_test) \n"
   ]
  },
  {
   "cell_type": "code",
   "execution_count": 249,
   "metadata": {},
   "outputs": [],
   "source": [
    "predictions = []\n",
    "y_pred = cnn_ulm_model.predict(testX)\n",
    "# y_pred =  (y_pred > 0.5).astype(int)\n",
    "y_pred = [0 if i<.5 else 1 for i in y_pred]\n",
    "predictions.append(y_pred)"
   ]
  },
  {
   "cell_type": "code",
   "execution_count": 251,
   "metadata": {},
   "outputs": [],
   "source": [
    "# y_pred"
   ]
  },
  {
   "cell_type": "code",
   "execution_count": 2,
   "metadata": {},
   "outputs": [],
   "source": [
    "## ref : keras documentation\n",
    "def lstmModel(xTrain, yTrain, xTest, yTest):\n",
    "    model = Sequential()\n",
    "    model.add(LSTM(15, input_shape=( 1, xTrain.shape[2]),activation='sigmoid',return_sequences=True))\n",
    "    model.add(Dropout(0.5))\n",
    "    model.add(LSTM(12))\n",
    "    model.add(Dropout(0.5))\n",
    "    model.add(Dense(1, activation='sigmoid'))\n",
    "    model.compile(loss='binary_crossentropy', optimizer='adam', metrics=['accuracy',f1_m,precision_m, recall_m])\n",
    "\n",
    "    #     print(model.summary())\n",
    "    model.fit(xTrain, yTrain, epochs=50, verbose=0, batch_size=16)\n",
    "    train_loss, train_accuracy, train_f1_score, train_precision, train_recall = model.evaluate(xTrain,  yTrain, verbose=0)\n",
    "    test_loss, test_accuracy, test_f1_score, test_precision, test_recall = model.evaluate(xTest,  yTest, verbose=0)\n",
    "    print(\"Train :\",train_loss, train_accuracy, train_f1_score, train_precision, train_recall)\n",
    "    print(\"Test :\",test_loss, test_accuracy, test_f1_score, test_precision, test_recall)\n",
    "    return model"
   ]
  },
  {
   "cell_type": "code",
   "execution_count": 254,
   "metadata": {},
   "outputs": [
    {
     "name": "stdout",
     "output_type": "stream",
     "text": [
      "Train : 0.41339361667633057 0.7933714389801025 0.7905644178390503 0.7563175559043884 0.8712905049324036\n",
      "Test : 0.5055256485939026 0.7305900454521179 0.7352601289749146 0.6813206076622009 0.8092216849327087\n"
     ]
    }
   ],
   "source": [
    "lstm_ulm_model = lstmModel(trainX, y_train, testX, y_test)"
   ]
  },
  {
   "cell_type": "code",
   "execution_count": 255,
   "metadata": {},
   "outputs": [
    {
     "name": "stdout",
     "output_type": "stream",
     "text": [
      "2 1288 1288\n"
     ]
    }
   ],
   "source": [
    "y_pred = lstm_ulm_model.predict(testX)\n",
    "# y_pred =  (y_pred > 0.5).astype(int)\n",
    "y_pred = [0 if i<.5 else 1 for i in y_pred]\n",
    "predictions.append(y_pred)\n",
    "print(len(predictions), len(predictions[0]), len(predictions[1]))"
   ]
  },
  {
   "cell_type": "markdown",
   "metadata": {},
   "source": [
    "# FastText"
   ]
  },
  {
   "cell_type": "code",
   "execution_count": 256,
   "metadata": {},
   "outputs": [],
   "source": [
    "file_name =\"../input/fasttextembeddings/embedd_labels_fasttext.npz\"\n",
    "loaded = np.load(file_name)\n",
    "X_train = loaded[\"X_train\"]\n",
    "X_test = loaded[\"X_test\"]\n",
    "Y_train = loaded[\"Y_train\"]\n",
    "Y_test = loaded[\"Y_test\"]"
   ]
  },
  {
   "cell_type": "code",
   "execution_count": 257,
   "metadata": {},
   "outputs": [
    {
     "name": "stdout",
     "output_type": "stream",
     "text": [
      "(4665, 300) (4665,) (1318, 300) (1318,)\n",
      "(4665, 1, 300)\n",
      "(1318, 1, 300)\n"
     ]
    }
   ],
   "source": [
    "print(X_train.shape,Y_train.shape,X_test.shape,Y_test.shape)\n",
    "X_train = np.reshape(X_train, (X_train.shape[0],1, X_train.shape[1]))\n",
    "print(X_train.shape)\n",
    "\n",
    "X_test = np.reshape(X_test, (X_test.shape[0],1, X_test.shape[1]))\n",
    "print(X_test.shape)"
   ]
  },
  {
   "cell_type": "code",
   "execution_count": 258,
   "metadata": {},
   "outputs": [
    {
     "name": "stdout",
     "output_type": "stream",
     "text": [
      "Epoch 1/50\n",
      "292/292 [==============================] - 0s 2ms/step - loss: 0.6106 - accuracy: 0.6907 - f1_m: 0.6877 - precision_m: 0.7006 - recall_m: 0.7114\n",
      "Epoch 2/50\n",
      "292/292 [==============================] - 1s 2ms/step - loss: 0.4766 - accuracy: 0.7758 - f1_m: 0.7734 - precision_m: 0.7976 - recall_m: 0.7780\n",
      "Epoch 3/50\n",
      "292/292 [==============================] - 0s 2ms/step - loss: 0.4449 - accuracy: 0.7983 - f1_m: 0.7922 - precision_m: 0.8295 - recall_m: 0.7843\n",
      "Epoch 4/50\n",
      "292/292 [==============================] - 1s 2ms/step - loss: 0.4292 - accuracy: 0.8047 - f1_m: 0.8018 - precision_m: 0.8243 - recall_m: 0.8044\n",
      "Epoch 5/50\n",
      "292/292 [==============================] - 1s 2ms/step - loss: 0.4119 - accuracy: 0.8105 - f1_m: 0.8081 - precision_m: 0.8331 - recall_m: 0.8082\n",
      "Epoch 6/50\n",
      "292/292 [==============================] - 1s 2ms/step - loss: 0.4038 - accuracy: 0.8137 - f1_m: 0.8067 - precision_m: 0.8350 - recall_m: 0.8066\n",
      "Epoch 7/50\n",
      "292/292 [==============================] - 1s 2ms/step - loss: 0.3962 - accuracy: 0.8169 - f1_m: 0.8195 - precision_m: 0.8353 - recall_m: 0.8250\n",
      "Epoch 8/50\n",
      "292/292 [==============================] - 1s 2ms/step - loss: 0.3835 - accuracy: 0.8251 - f1_m: 0.8225 - precision_m: 0.8521 - recall_m: 0.8144\n",
      "Epoch 9/50\n",
      "292/292 [==============================] - 1s 2ms/step - loss: 0.3865 - accuracy: 0.8229 - f1_m: 0.8210 - precision_m: 0.8467 - recall_m: 0.8191\n",
      "Epoch 10/50\n",
      "292/292 [==============================] - 1s 2ms/step - loss: 0.3738 - accuracy: 0.8247 - f1_m: 0.8232 - precision_m: 0.8512 - recall_m: 0.8156\n",
      "Epoch 11/50\n",
      "292/292 [==============================] - 1s 2ms/step - loss: 0.3702 - accuracy: 0.8225 - f1_m: 0.8188 - precision_m: 0.8432 - recall_m: 0.8185\n",
      "Epoch 12/50\n",
      "292/292 [==============================] - 1s 2ms/step - loss: 0.3648 - accuracy: 0.8292 - f1_m: 0.8290 - precision_m: 0.8481 - recall_m: 0.8346\n",
      "Epoch 13/50\n",
      "292/292 [==============================] - 1s 2ms/step - loss: 0.3679 - accuracy: 0.8268 - f1_m: 0.8269 - precision_m: 0.8397 - recall_m: 0.8399\n",
      "Epoch 14/50\n",
      "292/292 [==============================] - 1s 2ms/step - loss: 0.3590 - accuracy: 0.8270 - f1_m: 0.8254 - precision_m: 0.8483 - recall_m: 0.8253\n",
      "Epoch 15/50\n",
      "292/292 [==============================] - 1s 2ms/step - loss: 0.3559 - accuracy: 0.8339 - f1_m: 0.8362 - precision_m: 0.8473 - recall_m: 0.8426\n",
      "Epoch 16/50\n",
      "292/292 [==============================] - 1s 2ms/step - loss: 0.3507 - accuracy: 0.8352 - f1_m: 0.8368 - precision_m: 0.8424 - recall_m: 0.8506\n",
      "Epoch 17/50\n",
      "292/292 [==============================] - 1s 2ms/step - loss: 0.3464 - accuracy: 0.8345 - f1_m: 0.8322 - precision_m: 0.8486 - recall_m: 0.8357\n",
      "Epoch 18/50\n",
      "292/292 [==============================] - 1s 2ms/step - loss: 0.3428 - accuracy: 0.8322 - f1_m: 0.8362 - precision_m: 0.8423 - recall_m: 0.8497\n",
      "Epoch 19/50\n",
      "292/292 [==============================] - 1s 2ms/step - loss: 0.3401 - accuracy: 0.8360 - f1_m: 0.8413 - precision_m: 0.8373 - recall_m: 0.8622\n",
      "Epoch 20/50\n",
      "292/292 [==============================] - 1s 2ms/step - loss: 0.3386 - accuracy: 0.8388 - f1_m: 0.8437 - precision_m: 0.8415 - recall_m: 0.8681\n",
      "Epoch 21/50\n",
      "292/292 [==============================] - 1s 2ms/step - loss: 0.3359 - accuracy: 0.8420 - f1_m: 0.8437 - precision_m: 0.8477 - recall_m: 0.8615\n",
      "Epoch 22/50\n",
      "292/292 [==============================] - 0s 2ms/step - loss: 0.3331 - accuracy: 0.8444 - f1_m: 0.8494 - precision_m: 0.8425 - recall_m: 0.8767\n",
      "Epoch 23/50\n",
      "292/292 [==============================] - 0s 2ms/step - loss: 0.3239 - accuracy: 0.8489 - f1_m: 0.8503 - precision_m: 0.8487 - recall_m: 0.8672\n",
      "Epoch 24/50\n",
      "292/292 [==============================] - 0s 2ms/step - loss: 0.3206 - accuracy: 0.8469 - f1_m: 0.8500 - precision_m: 0.8355 - recall_m: 0.8805\n",
      "Epoch 25/50\n",
      "292/292 [==============================] - 1s 2ms/step - loss: 0.3130 - accuracy: 0.8472 - f1_m: 0.8493 - precision_m: 0.8443 - recall_m: 0.8732\n",
      "Epoch 26/50\n",
      "292/292 [==============================] - 0s 2ms/step - loss: 0.3151 - accuracy: 0.8487 - f1_m: 0.8520 - precision_m: 0.8452 - recall_m: 0.8814\n",
      "Epoch 27/50\n",
      "292/292 [==============================] - 1s 2ms/step - loss: 0.3088 - accuracy: 0.8547 - f1_m: 0.8590 - precision_m: 0.8497 - recall_m: 0.8846\n",
      "Epoch 28/50\n",
      "292/292 [==============================] - 0s 2ms/step - loss: 0.3031 - accuracy: 0.8547 - f1_m: 0.8608 - precision_m: 0.8495 - recall_m: 0.8889\n",
      "Epoch 29/50\n",
      "292/292 [==============================] - 0s 2ms/step - loss: 0.3092 - accuracy: 0.8538 - f1_m: 0.8580 - precision_m: 0.8532 - recall_m: 0.8816\n",
      "Epoch 30/50\n",
      "292/292 [==============================] - 0s 2ms/step - loss: 0.2950 - accuracy: 0.8620 - f1_m: 0.8642 - precision_m: 0.8538 - recall_m: 0.8909\n",
      "Epoch 31/50\n",
      "292/292 [==============================] - 0s 2ms/step - loss: 0.2891 - accuracy: 0.8671 - f1_m: 0.8714 - precision_m: 0.8603 - recall_m: 0.9004\n",
      "Epoch 32/50\n",
      "292/292 [==============================] - 0s 2ms/step - loss: 0.2887 - accuracy: 0.8630 - f1_m: 0.8693 - precision_m: 0.8509 - recall_m: 0.9037\n",
      "Epoch 33/50\n",
      "292/292 [==============================] - 0s 2ms/step - loss: 0.2858 - accuracy: 0.8654 - f1_m: 0.8702 - precision_m: 0.8576 - recall_m: 0.8989\n",
      "Epoch 34/50\n",
      "292/292 [==============================] - 0s 2ms/step - loss: 0.2730 - accuracy: 0.8757 - f1_m: 0.8777 - precision_m: 0.8640 - recall_m: 0.9048\n",
      "Epoch 35/50\n",
      "292/292 [==============================] - 0s 2ms/step - loss: 0.2752 - accuracy: 0.8697 - f1_m: 0.8746 - precision_m: 0.8584 - recall_m: 0.9095\n",
      "Epoch 36/50\n",
      "292/292 [==============================] - 0s 2ms/step - loss: 0.2686 - accuracy: 0.8782 - f1_m: 0.8804 - precision_m: 0.8673 - recall_m: 0.9088\n",
      "Epoch 37/50\n",
      "292/292 [==============================] - 0s 2ms/step - loss: 0.2598 - accuracy: 0.8795 - f1_m: 0.8806 - precision_m: 0.8676 - recall_m: 0.9106\n",
      "Epoch 38/50\n",
      "292/292 [==============================] - 0s 2ms/step - loss: 0.2587 - accuracy: 0.8774 - f1_m: 0.8801 - precision_m: 0.8648 - recall_m: 0.9111\n",
      "Epoch 39/50\n",
      "292/292 [==============================] - 1s 2ms/step - loss: 0.2527 - accuracy: 0.8860 - f1_m: 0.8885 - precision_m: 0.8700 - recall_m: 0.9191\n",
      "Epoch 40/50\n",
      "292/292 [==============================] - 0s 2ms/step - loss: 0.2471 - accuracy: 0.8902 - f1_m: 0.8917 - precision_m: 0.8743 - recall_m: 0.9247\n",
      "Epoch 41/50\n",
      "292/292 [==============================] - 0s 2ms/step - loss: 0.2393 - accuracy: 0.8866 - f1_m: 0.8888 - precision_m: 0.8700 - recall_m: 0.9225\n",
      "Epoch 42/50\n",
      "292/292 [==============================] - 0s 2ms/step - loss: 0.2434 - accuracy: 0.8864 - f1_m: 0.8902 - precision_m: 0.8723 - recall_m: 0.9230\n",
      "Epoch 43/50\n",
      "292/292 [==============================] - 0s 2ms/step - loss: 0.2284 - accuracy: 0.8986 - f1_m: 0.8997 - precision_m: 0.8925 - recall_m: 0.9206\n",
      "Epoch 44/50\n",
      "292/292 [==============================] - 0s 2ms/step - loss: 0.2258 - accuracy: 0.8958 - f1_m: 0.8972 - precision_m: 0.8797 - recall_m: 0.9307\n",
      "Epoch 45/50\n",
      "292/292 [==============================] - 0s 2ms/step - loss: 0.2224 - accuracy: 0.8997 - f1_m: 0.9030 - precision_m: 0.8778 - recall_m: 0.9415\n",
      "Epoch 46/50\n",
      "292/292 [==============================] - 0s 2ms/step - loss: 0.2189 - accuracy: 0.9014 - f1_m: 0.9040 - precision_m: 0.8841 - recall_m: 0.9383\n",
      "Epoch 47/50\n",
      "292/292 [==============================] - 0s 2ms/step - loss: 0.2122 - accuracy: 0.8969 - f1_m: 0.8987 - precision_m: 0.8841 - recall_m: 0.9278\n",
      "Epoch 48/50\n",
      "292/292 [==============================] - 0s 2ms/step - loss: 0.2100 - accuracy: 0.9093 - f1_m: 0.9094 - precision_m: 0.8913 - recall_m: 0.9403\n",
      "Epoch 49/50\n",
      "292/292 [==============================] - 0s 2ms/step - loss: 0.2055 - accuracy: 0.9098 - f1_m: 0.9121 - precision_m: 0.8936 - recall_m: 0.9430\n",
      "Epoch 50/50\n",
      "292/292 [==============================] - 0s 2ms/step - loss: 0.1955 - accuracy: 0.9102 - f1_m: 0.9127 - precision_m: 0.8950 - recall_m: 0.9416\n",
      "Train : 0.1751651167869568 0.9206859469413757 0.9142581224441528 0.8992906212806702 0.9471265077590942\n",
      "Test : 0.6048240661621094 0.7716236710548401 0.7675918340682983 0.7161362767219543 0.8432979583740234\n"
     ]
    }
   ],
   "source": [
    "cnn_fastext_model = cnnModel(X_train, Y_train, X_test, Y_test) "
   ]
  },
  {
   "cell_type": "code",
   "execution_count": 260,
   "metadata": {},
   "outputs": [],
   "source": [
    "y_pred = cnn_fastext_model.predict(X_test)\n",
    "# y_pred =  (y_pred > 0.5).astype(int)\n",
    "y_pred = [0 if i<.5 else 1 for i in y_pred]\n",
    "\n",
    "# print(len(predictions), len(predictions[0]), len(predictions[1]), len(predictions[2]))"
   ]
  },
  {
   "cell_type": "code",
   "execution_count": 261,
   "metadata": {},
   "outputs": [
    {
     "name": "stdout",
     "output_type": "stream",
     "text": [
      "3 1288 1288 1318\n"
     ]
    }
   ],
   "source": [
    "predictions.append(y_pred)\n",
    "print(len(predictions), len(predictions[0]), len(predictions[1]), len(predictions[2]))\n"
   ]
  },
  {
   "cell_type": "code",
   "execution_count": 262,
   "metadata": {},
   "outputs": [
    {
     "name": "stdout",
     "output_type": "stream",
     "text": [
      "Train : 0.4127492606639862 0.8002143502235413 0.7913225889205933 0.7999027371406555 0.8265913724899292\n",
      "Test : 0.4523051977157593 0.7890743613243103 0.770104706287384 0.7562322020530701 0.7961184978485107\n"
     ]
    }
   ],
   "source": [
    "lstm_fastext_model = lstmModel(X_train, Y_train, X_test, Y_test)"
   ]
  },
  {
   "cell_type": "code",
   "execution_count": 266,
   "metadata": {},
   "outputs": [],
   "source": [
    "y_pred = lstm_fastext_model.predict(X_test)\n",
    "# y_pred =  (y_pred > 0.5).astype(int)\n",
    "y_pred = [0 if i<.5 else 1 for i in y_pred]\n",
    "predictions.append(y_pred)\n"
   ]
  },
  {
   "cell_type": "code",
   "execution_count": 267,
   "metadata": {},
   "outputs": [
    {
     "name": "stdout",
     "output_type": "stream",
     "text": [
      "4 1288 1288 1318 1318\n"
     ]
    }
   ],
   "source": [
    "print(len(predictions), len(predictions[0]), len(predictions[1]), len(predictions[2]), len(predictions[3]))\n"
   ]
  },
  {
   "cell_type": "code",
   "execution_count": 273,
   "metadata": {},
   "outputs": [],
   "source": [
    "from sklearn.metrics import roc_curve, roc_auc_score, precision_score, recall_score, f1_score\n",
    "from sklearn.svm import LinearSVC"
   ]
  },
  {
   "cell_type": "code",
   "execution_count": 292,
   "metadata": {},
   "outputs": [
    {
     "name": "stdout",
     "output_type": "stream",
     "text": [
      "auc : 0.8384387112403101\n",
      "precision : 0.8066666666666666\n",
      "recall : 0.6964028776978417\n",
      "f_score : 0.7474903474903475\n"
     ]
    }
   ],
   "source": [
    "model_names = ['cnn_ulm_model', 'lstm_ulm_model', 'cnn_fasttext_model', 'lstm_fasttext_model']\n",
    "models = [cnn_ulm_model, lstm_ulm_model, cnn_fastext_model, lstm_fastext_model]\n",
    "result_table = pd.DataFrame(columns=['classifiers', 'fpr','tpr','auc', 'p', 'r', 'acc', 'f1'])\n",
    "# list(test_vectors.keys())\n",
    "# for model in models:\n",
    "\n",
    "y_prob = cnn_ulm_model.predict_proba(testX)[::,0]\n",
    "# print(y_prob)\n",
    "fpr, tpr, _ = roc_curve(y_test, y_prob)\n",
    "auc = roc_auc_score(y_test, y_prob)\n",
    "precision = precision_score(predictions[0], y_test)\n",
    "recall = recall_score(predictions[0], y_test)\n",
    "fscore = f1_score(predictions[0], y_test)\n",
    "print(\"auc :\" ,auc )\n",
    "print(\"precision :\", precision)\n",
    "print(\"recall :\", recall)\n",
    "print(\"f_score :\", fscore )\n",
    "result_table = result_table.append({'classifiers':'cnn_ulm_model',\n",
    "                                    'fpr':fpr, \n",
    "                                    'tpr':tpr, \n",
    "                                    'auc':auc,\n",
    "                                    'p': precision,\n",
    "                                    'r': recall,\n",
    "                                    'acc' :acc,\n",
    "                                    'f1': fscore}, ignore_index=True)"
   ]
  },
  {
   "cell_type": "code",
   "execution_count": 293,
   "metadata": {},
   "outputs": [
    {
     "name": "stdout",
     "output_type": "stream",
     "text": [
      "auc : 0.8400048449612403\n",
      "precision : 0.8116666666666666\n",
      "recall : 0.6754507628294036\n",
      "f_score : 0.7373202119606359\n"
     ]
    }
   ],
   "source": [
    "y_prob = lstm_ulm_model.predict_proba(testX)[::,0]\n",
    "# print(y_prob)\n",
    "fpr, tpr, _ = roc_curve(y_test, y_prob)\n",
    "auc = roc_auc_score(y_test, y_prob)\n",
    "precision = precision_score(predictions[1], y_test)\n",
    "recall = recall_score(predictions[1], y_test)\n",
    "fscore = f1_score(predictions[1], y_test)\n",
    "print(\"auc :\" ,auc )\n",
    "print(\"precision :\", precision)\n",
    "print(\"recall :\", recall)\n",
    "print(\"f_score :\", fscore )\n",
    "result_table = result_table.append({'classifiers':'lstm_ulm_model',\n",
    "                                    'fpr':fpr, \n",
    "                                    'tpr':tpr, \n",
    "                                    'auc':auc,\n",
    "                                    'p': precision,\n",
    "                                    'r': recall,\n",
    "                                    'acc' :acc,\n",
    "                                    'f1': fscore}, ignore_index=True)"
   ]
  },
  {
   "cell_type": "code",
   "execution_count": 294,
   "metadata": {},
   "outputs": [
    {
     "name": "stdout",
     "output_type": "stream",
     "text": [
      "auc : 0.873116734088301\n",
      "precision : 0.8413223140495868\n",
      "recall : 0.7128851540616247\n",
      "f_score : 0.7717968157695224\n"
     ]
    }
   ],
   "source": [
    "y_prob = cnn_fastext_model.predict_proba(X_test)[::,0]\n",
    "# print(y_prob)\n",
    "fpr, tpr, _ = roc_curve(Y_test, y_prob)\n",
    "auc = roc_auc_score(Y_test, y_prob)\n",
    "precision = precision_score(predictions[2], Y_test)\n",
    "recall = recall_score(predictions[2], Y_test)\n",
    "fscore = f1_score(predictions[2], Y_test)\n",
    "print(\"auc :\" ,auc )\n",
    "print(\"precision :\", precision)\n",
    "print(\"recall :\", recall)\n",
    "print(\"f_score :\", fscore )\n",
    "result_table = result_table.append({'classifiers':'cnn_fastext_model',\n",
    "                                    'fpr':fpr, \n",
    "                                    'tpr':tpr, \n",
    "                                    'auc':auc,\n",
    "                                    'p': precision,\n",
    "                                    'r': recall,\n",
    "                                    'acc' :acc,\n",
    "                                    'f1': fscore}, ignore_index=True)"
   ]
  },
  {
   "cell_type": "code",
   "execution_count": 295,
   "metadata": {},
   "outputs": [
    {
     "name": "stdout",
     "output_type": "stream",
     "text": [
      "auc : 0.8776140855192238\n",
      "precision : 0.7983471074380165\n",
      "recall : 0.755868544600939\n",
      "f_score : 0.7765273311897107\n"
     ]
    }
   ],
   "source": [
    "y_prob = lstm_fastext_model.predict_proba(X_test)[::,0]\n",
    "# print(y_prob)\n",
    "fpr, tpr, _ = roc_curve(Y_test, y_prob)\n",
    "auc = roc_auc_score(Y_test, y_prob)\n",
    "precision = precision_score(predictions[3], Y_test)\n",
    "recall = recall_score(predictions[3], Y_test)\n",
    "fscore = f1_score(predictions[3], Y_test)\n",
    "print(\"auc :\" ,auc )\n",
    "print(\"precision :\", precision)\n",
    "print(\"recall :\", recall)\n",
    "print(\"f_score :\", fscore )\n",
    "result_table = result_table.append({'classifiers':'lstm_fastext_model',\n",
    "                                    'fpr':fpr, \n",
    "                                    'tpr':tpr, \n",
    "                                    'auc':auc,\n",
    "                                    'p': precision,\n",
    "                                    'r': recall,\n",
    "                                    'acc' :acc,\n",
    "                                    'f1': fscore}, ignore_index=True)"
   ]
  },
  {
   "cell_type": "code",
   "execution_count": 296,
   "metadata": {},
   "outputs": [],
   "source": [
    "result_table.set_index('classifiers', inplace=True)"
   ]
  },
  {
   "cell_type": "code",
   "execution_count": 297,
   "metadata": {},
   "outputs": [
    {
     "data": {
      "text/html": [
       "<div>\n",
       "<style scoped>\n",
       "    .dataframe tbody tr th:only-of-type {\n",
       "        vertical-align: middle;\n",
       "    }\n",
       "\n",
       "    .dataframe tbody tr th {\n",
       "        vertical-align: top;\n",
       "    }\n",
       "\n",
       "    .dataframe thead th {\n",
       "        text-align: right;\n",
       "    }\n",
       "</style>\n",
       "<table border=\"1\" class=\"dataframe\">\n",
       "  <thead>\n",
       "    <tr style=\"text-align: right;\">\n",
       "      <th></th>\n",
       "      <th>fpr</th>\n",
       "      <th>tpr</th>\n",
       "      <th>auc</th>\n",
       "      <th>p</th>\n",
       "      <th>r</th>\n",
       "      <th>acc</th>\n",
       "      <th>f1</th>\n",
       "    </tr>\n",
       "    <tr>\n",
       "      <th>classifiers</th>\n",
       "      <th></th>\n",
       "      <th></th>\n",
       "      <th></th>\n",
       "      <th></th>\n",
       "      <th></th>\n",
       "      <th></th>\n",
       "      <th></th>\n",
       "    </tr>\n",
       "  </thead>\n",
       "  <tbody>\n",
       "    <tr>\n",
       "      <th>cnn_ulm_model</th>\n",
       "      <td>[0.0, 0.0, 0.0, 0.0, 0.0, 0.002906976744186046...</td>\n",
       "      <td>[0.0, 0.0016666666666666668, 0.026666666666666...</td>\n",
       "      <td>0.838439</td>\n",
       "      <td>0.806667</td>\n",
       "      <td>0.696403</td>\n",
       "      <td>(0.7465142607688904, 0.72826087474823)</td>\n",
       "      <td>0.747490</td>\n",
       "    </tr>\n",
       "    <tr>\n",
       "      <th>lstm_ulm_model</th>\n",
       "      <td>[0.0, 0.0, 0.0, 0.0, 0.0, 0.001453488372093023...</td>\n",
       "      <td>[0.0, 0.0016666666666666668, 0.011666666666666...</td>\n",
       "      <td>0.840005</td>\n",
       "      <td>0.811667</td>\n",
       "      <td>0.675451</td>\n",
       "      <td>(0.7465142607688904, 0.72826087474823)</td>\n",
       "      <td>0.737320</td>\n",
       "    </tr>\n",
       "    <tr>\n",
       "      <th>cnn_fastext_model</th>\n",
       "      <td>[0.0, 0.0, 0.0, 0.0, 0.0, 0.0, 0.0014025245441...</td>\n",
       "      <td>[0.0, 0.01487603305785124, 0.01818181818181818...</td>\n",
       "      <td>0.873117</td>\n",
       "      <td>0.841322</td>\n",
       "      <td>0.712885</td>\n",
       "      <td>(0.7465142607688904, 0.72826087474823)</td>\n",
       "      <td>0.771797</td>\n",
       "    </tr>\n",
       "    <tr>\n",
       "      <th>lstm_fastext_model</th>\n",
       "      <td>[0.0, 0.0, 0.0, 0.001402524544179523, 0.001402...</td>\n",
       "      <td>[0.0, 0.001652892561983471, 0.1140495867768595...</td>\n",
       "      <td>0.877614</td>\n",
       "      <td>0.798347</td>\n",
       "      <td>0.755869</td>\n",
       "      <td>(0.7465142607688904, 0.72826087474823)</td>\n",
       "      <td>0.776527</td>\n",
       "    </tr>\n",
       "  </tbody>\n",
       "</table>\n",
       "</div>"
      ],
      "text/plain": [
       "                                                                  fpr  \\\n",
       "classifiers                                                             \n",
       "cnn_ulm_model       [0.0, 0.0, 0.0, 0.0, 0.0, 0.002906976744186046...   \n",
       "lstm_ulm_model      [0.0, 0.0, 0.0, 0.0, 0.0, 0.001453488372093023...   \n",
       "cnn_fastext_model   [0.0, 0.0, 0.0, 0.0, 0.0, 0.0, 0.0014025245441...   \n",
       "lstm_fastext_model  [0.0, 0.0, 0.0, 0.001402524544179523, 0.001402...   \n",
       "\n",
       "                                                                  tpr  \\\n",
       "classifiers                                                             \n",
       "cnn_ulm_model       [0.0, 0.0016666666666666668, 0.026666666666666...   \n",
       "lstm_ulm_model      [0.0, 0.0016666666666666668, 0.011666666666666...   \n",
       "cnn_fastext_model   [0.0, 0.01487603305785124, 0.01818181818181818...   \n",
       "lstm_fastext_model  [0.0, 0.001652892561983471, 0.1140495867768595...   \n",
       "\n",
       "                         auc         p         r  \\\n",
       "classifiers                                        \n",
       "cnn_ulm_model       0.838439  0.806667  0.696403   \n",
       "lstm_ulm_model      0.840005  0.811667  0.675451   \n",
       "cnn_fastext_model   0.873117  0.841322  0.712885   \n",
       "lstm_fastext_model  0.877614  0.798347  0.755869   \n",
       "\n",
       "                                                       acc        f1  \n",
       "classifiers                                                           \n",
       "cnn_ulm_model       (0.7465142607688904, 0.72826087474823)  0.747490  \n",
       "lstm_ulm_model      (0.7465142607688904, 0.72826087474823)  0.737320  \n",
       "cnn_fastext_model   (0.7465142607688904, 0.72826087474823)  0.771797  \n",
       "lstm_fastext_model  (0.7465142607688904, 0.72826087474823)  0.776527  "
      ]
     },
     "execution_count": 297,
     "metadata": {},
     "output_type": "execute_result"
    }
   ],
   "source": [
    "result_table"
   ]
  },
  {
   "cell_type": "code",
   "execution_count": 299,
   "metadata": {},
   "outputs": [
    {
     "data": {
      "image/png": "[encoded data removed]",
      "text/plain": [
       "<Figure size 576x432 with 1 Axes>"
      ]
     },
     "metadata": {
      "needs_background": "light"
     },
     "output_type": "display_data"
    }
   ],
   "source": [
    "## ref : stackoverflow graph tutorial\n",
    "import matplotlib.pyplot as plt\n",
    "fig = plt.figure(figsize=(8,6))\n",
    "\n",
    "for i in result_table.index:\n",
    "    plt.plot(result_table.loc[i]['fpr'], \n",
    "             result_table.loc[i]['tpr'], \n",
    "             label=\"{}, AUC={:.3f}\".format(i, result_table.loc[i]['auc']))\n",
    "    \n",
    "plt.plot([0,1], [0,1], color='orange', linestyle='--')\n",
    "\n",
    "plt.xticks(np.arange(0.0, 1.1, step=0.1))\n",
    "plt.xlabel(\"Flase Positive Rate\", fontsize=15)\n",
    "\n",
    "plt.yticks(np.arange(0.0, 1.1, step=0.1))\n",
    "plt.ylabel(\"True Positive Rate\", fontsize=15)\n",
    "\n",
    "plt.title('AUC ROC Curve for DL Models', fontweight='bold', fontsize=15)\n",
    "plt.legend(prop={'size':9}, loc='lower right')\n",
    "\n",
    "plt.show()"
   ]
  },
  {
   "cell_type": "code",
   "execution_count": null,
   "metadata": {},
   "outputs": [],
   "source": []
  }
 ],
 "metadata": {
  "kernelspec": {
   "display_name": "Python 3",
   "language": "python",
   "name": "python3"
  },
  "language_info": {
   "codemirror_mode": {
    "name": "ipython",
    "version": 3
   },
   "file_extension": ".py",
   "mimetype": "text/x-python",
   "name": "python",
   "nbconvert_exporter": "python",
   "pygments_lexer": "ipython3",
   "version": "3.7.6"
  }
 },
 "nbformat": 4,
 "nbformat_minor": 4
}
